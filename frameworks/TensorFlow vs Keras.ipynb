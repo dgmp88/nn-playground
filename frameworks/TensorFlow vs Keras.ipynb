{
 "cells": [
  {
   "cell_type": "markdown",
   "metadata": {},
   "source": [
    "# TensorFlow Keras Comparsion \n",
    "\n",
    "See the accompanying blog post on my [home page](http://georgep.xyz).\n"
   ]
  },
  {
   "cell_type": "code",
   "execution_count": 1,
   "metadata": {
    "collapsed": false
   },
   "outputs": [
    {
     "name": "stdout",
     "output_type": "stream",
     "text": [
      "Populating the interactive namespace from numpy and matplotlib\n"
     ]
    }
   ],
   "source": [
    "%pylab inline\n",
    "import seaborn as sns\n",
    "\n",
    "# How we'll get batches \n",
    "def get_batch(array_size, n_samples=100):\n",
    "    x = np.random.rand(n_samples, array_size)\n",
    "    y = x.argsort()\n",
    "    return x, y\n",
    "\n",
    "# Our easily interpretable evaluation function\n",
    "def evaluate(y_pred, y_actual):\n",
    "    score = np.mean(y_pred.round() == y_actual)*100\n",
    "    return score"
   ]
  },
  {
   "cell_type": "markdown",
   "metadata": {},
   "source": [
    "Before we get any further, lets also define some hyperparameters we'll use in all the tests."
   ]
  },
  {
   "cell_type": "code",
   "execution_count": 2,
   "metadata": {
    "collapsed": true
   },
   "outputs": [],
   "source": [
    "array_size = 2 # How long the arrays are we'll sort. Not very long at all.\n",
    "runs = 500 # Number of training runs\n",
    "batch_size = 10000 # Number of training examples in each training run"
   ]
  },
  {
   "cell_type": "markdown",
   "metadata": {},
   "source": [
    "# 1 layer net in pure TensorFlow"
   ]
  },
  {
   "cell_type": "code",
   "execution_count": 3,
   "metadata": {
    "collapsed": false
   },
   "outputs": [
    {
     "name": "stdout",
     "output_type": "stream",
     "text": [
      "99.65\n"
     ]
    }
   ],
   "source": [
    "import tensorflow as tf\n",
    "\n",
    "# Tensorflow seperates the 'graph' itself from the 'session' you run it in.\n",
    "# Basically, you create the graph, then initalize and run all the variables \n",
    "# for that graph in a 'session'. The interactive session below means you \n",
    "# can worry about this less.\n",
    "sess = tf.InteractiveSession()\n",
    "\n",
    "#### Build the model\n",
    "\n",
    "# First, we need to create placeholder variables for the inputs and outputs\n",
    "x = tf.placeholder(tf.float32, shape=[None, array_size])\n",
    "y_ = tf.placeholder(tf.float32, shape=[None, array_size])\n",
    "\n",
    "# Now we need to set up the variables we'll use for our 'fully connected' layer\n",
    "W = tf.Variable(tf.zeros([array_size, array_size]))\n",
    "b = tf.Variable(tf.zeros([array_size]))\n",
    "\n",
    "# Tell TF what the operation is here - basically that it's a fully connected layer\n",
    "y = tf.matmul(x,W) + b\n",
    "\n",
    "# Define the loss function. I wanted mean square error, but it's not available built in, so you \n",
    "# need to compute it manually\n",
    "error = tf.reduce_mean(tf.square(tf.sub(y_, y)))\n",
    "\n",
    "# Define the optimizer we'll use \n",
    "train_step = tf.train.GradientDescentOptimizer(0.5).minimize(error)\n",
    "\n",
    "# Initialize all the variables \n",
    "sess.run(tf.global_variables_initializer())\n",
    "\n",
    "#### Train the model\n",
    "losses_tf = []\n",
    "for i in range(runs):\n",
    "    x_train, y_train = get_batch(array_size, batch_size)\n",
    "    _, loss_val = sess.run([train_step, error],\n",
    "                           feed_dict={x: x_train, y_:y_train})\n",
    "    losses_tf.append(loss_val)\n",
    "\n",
    "# Test \n",
    "x_test, y_test = get_batch(array_size, batch_size)\n",
    "_, pred, loss_val = sess.run([train_step, y, error],\n",
    "                       feed_dict={x: x_test, y_: y_test})\n",
    "\n",
    "test_score = evaluate(pred, y_test)\n",
    "\n",
    "print(test_score)"
   ]
  },
  {
   "cell_type": "markdown",
   "metadata": {},
   "source": [
    "# 1 layer net (effectively linear regression) in Keras"
   ]
  },
  {
   "cell_type": "code",
   "execution_count": 10,
   "metadata": {
    "collapsed": false
   },
   "outputs": [
    {
     "name": "stdout",
     "output_type": "stream",
     "text": [
      "score:  99.94\n"
     ]
    }
   ],
   "source": [
    "import keras\n",
    "\n",
    "# Initiate our model\n",
    "model = keras.models.Sequential()\n",
    "\n",
    "# Add the layers\n",
    "layer = keras.layers.Dense(output_dim=array_size, input_dim=array_size)\n",
    "model.add(layer)\n",
    "\n",
    "# 'Compile' the model, and define the loss function,\n",
    "sgd = keras.optimizers.SGD(lr=0.5)\n",
    "model.compile(loss='mse', optimizer=sgd)\n",
    "\n",
    "losses_keras = []\n",
    "for i in range(runs):\n",
    "    x_train, y_train = get_batch(array_size, batch_size)\n",
    "    loss = model.train_on_batch(x_train, y_train)\n",
    "    losses_keras.append(loss)\n",
    "x_test, y_test = get_batch(array_size, batch_size)\n",
    "y_pred = model.predict(x_test)\n",
    "score = evaluate(y_pred, y_test)\n",
    "\n",
    "print('score: ', score)"
   ]
  },
  {
   "cell_type": "code",
   "execution_count": 11,
   "metadata": {
    "collapsed": false,
    "scrolled": true
   },
   "outputs": [
    {
     "data": {
      "text/plain": [
       "<matplotlib.text.Text at 0x11b89f898>"
      ]
     },
     "execution_count": 11,
     "metadata": {},
     "output_type": "execute_result"
    },
    {
     "data": {
      "image/png": "[encoded data removed]",
      "text/plain": [
       "<matplotlib.figure.Figure at 0x11b1f6d68>"
      ]
     },
     "metadata": {},
     "output_type": "display_data"
    }
   ],
   "source": [
    "plt.plot(losses_tf)\n",
    "plt.plot(losses_keras)\n",
    "plt.legend(['TensorFlow', 'Keras'])\n",
    "plt.xlabel('Training batch number')\n",
    "plt.ylabel('Loss')"
   ]
  },
  {
   "cell_type": "markdown",
   "metadata": {},
   "source": [
    "# Get some speed benchmarks"
   ]
  },
  {
   "cell_type": "code",
   "execution_count": 6,
   "metadata": {
    "collapsed": false
   },
   "outputs": [
    {
     "name": "stdout",
     "output_type": "stream",
     "text": [
      "1 loop, best of 3: 1.25 s per loop\n",
      "1 loop, best of 3: 1.53 s per loop\n"
     ]
    }
   ],
   "source": [
    "def train_tf():\n",
    "    # Tensorflow seperates the 'graph' itself from the 'session' you run it in.\n",
    "    # Basically, you create the graph, then initalize and run all the variables \n",
    "    # for that graph in a 'session'. The interactive session below means you \n",
    "    # can worry about this less.\n",
    "    sess = tf.InteractiveSession()\n",
    "\n",
    "    #### Build the model\n",
    "\n",
    "    # First, we need to create placeholder variables for the inputs and outputs\n",
    "    x = tf.placeholder(tf.float32, shape=[None, array_size])\n",
    "    y_ = tf.placeholder(tf.float32, shape=[None, array_size])\n",
    "\n",
    "    # Now we need to set up the variables we'll use for our 'fully connected' layer\n",
    "    W = tf.Variable(tf.zeros([array_size, array_size]))\n",
    "    b = tf.Variable(tf.zeros([array_size]))\n",
    "\n",
    "    # Tell TF what the operation is here - basically that it's a fully connected layer\n",
    "    y = tf.matmul(x,W) + b\n",
    "\n",
    "    # Define the loss function. I wanted mean square error, but it's not available built in, so you \n",
    "    # need to compute it manually\n",
    "    error = tf.reduce_mean(tf.square(tf.sub(y_, y)))\n",
    "\n",
    "    # Define the optimizer we'll use \n",
    "    train_step = tf.train.GradientDescentOptimizer(0.5).minimize(error)\n",
    "\n",
    "    # Initialize all the variables \n",
    "    sess.run(tf.global_variables_initializer())\n",
    "\n",
    "    #### Train the model\n",
    "    losses_tf = []\n",
    "    for i in range(runs):\n",
    "        x_train, y_train = get_batch(array_size, batch_size)\n",
    "        _, loss_val = sess.run([train_step, error],\n",
    "                               feed_dict={x: x_train, y_:y_train})\n",
    "        losses_tf.append(loss_val)\n",
    "\n",
    "\n",
    "def train_keras():\n",
    "    # Initiate our model\n",
    "    model = keras.models.Sequential()\n",
    "\n",
    "    # Add the layers\n",
    "    layer = keras.layers.Dense(output_dim=array_size, input_dim=array_size)\n",
    "    model.add(layer)\n",
    "\n",
    "    # 'Compile' the model, and define the loss function,\n",
    "    sgd = keras.optimizers.SGD(lr=0.5)\n",
    "    model.compile(loss='mse', optimizer=sgd)\n",
    "\n",
    "    losses_keras = []\n",
    "    for i in range(runs):\n",
    "        x_train, y_train = get_batch(array_size, batch_size)\n",
    "        loss = model.train_on_batch(x_train, y_train)\n",
    "        losses_keras.append(loss)\n",
    "        \n",
    "%timeit train_tf()\n",
    "%timeit train_keras()"
   ]
  }
 ],
 "metadata": {
  "kernelspec": {
   "display_name": "Python 3",
   "language": "python",
   "name": "python3"
  },
  "language_info": {
   "codemirror_mode": {
    "name": "ipython",
    "version": 3
   },
   "file_extension": ".py",
   "mimetype": "text/x-python",
   "name": "python",
   "nbconvert_exporter": "python",
   "pygments_lexer": "ipython3",
   "version": "3.5.1"
  }
 },
 "nbformat": 4,
 "nbformat_minor": 1
}
